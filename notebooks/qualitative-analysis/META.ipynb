{
 "cells": [
  {
   "cell_type": "markdown",
   "metadata": {},
   "source": [
    ">> ## Quantitative analysis for META"
   ]
  },
  {
   "cell_type": "code",
   "execution_count": 1,
   "metadata": {},
   "outputs": [],
   "source": [
    "import pandas as pd # type: ignore\n",
    "import os\n",
    "os.chdir('../../')\n"
   ]
  },
  {
   "cell_type": "markdown",
   "metadata": {},
   "source": [
    ">>> #### Load data"
   ]
  },
  {
   "cell_type": "code",
   "execution_count": 2,
   "metadata": {},
   "outputs": [],
   "source": [
    "data = pd.read_csv(\"./data/yfinance_data/META_historical_data.csv\")"
   ]
  },
  {
   "cell_type": "code",
   "execution_count": 3,
   "metadata": {},
   "outputs": [
    {
     "data": {
      "text/html": [
       "<div>\n",
       "<style scoped>\n",
       "    .dataframe tbody tr th:only-of-type {\n",
       "        vertical-align: middle;\n",
       "    }\n",
       "\n",
       "    .dataframe tbody tr th {\n",
       "        vertical-align: top;\n",
       "    }\n",
       "\n",
       "    .dataframe thead th {\n",
       "        text-align: right;\n",
       "    }\n",
       "</style>\n",
       "<table border=\"1\" class=\"dataframe\">\n",
       "  <thead>\n",
       "    <tr style=\"text-align: right;\">\n",
       "      <th></th>\n",
       "      <th>Date</th>\n",
       "      <th>Open</th>\n",
       "      <th>High</th>\n",
       "      <th>Low</th>\n",
       "      <th>Close</th>\n",
       "      <th>Adj Close</th>\n",
       "      <th>Volume</th>\n",
       "      <th>Dividends</th>\n",
       "      <th>Stock Splits</th>\n",
       "    </tr>\n",
       "  </thead>\n",
       "  <tbody>\n",
       "    <tr>\n",
       "      <th>0</th>\n",
       "      <td>2012-12-12</td>\n",
       "      <td>28.000000</td>\n",
       "      <td>28.139999</td>\n",
       "      <td>27.370001</td>\n",
       "      <td>27.580000</td>\n",
       "      <td>27.523441</td>\n",
       "      <td>46704200</td>\n",
       "      <td>0.0</td>\n",
       "      <td>0.0</td>\n",
       "    </tr>\n",
       "    <tr>\n",
       "      <th>1</th>\n",
       "      <td>2012-12-13</td>\n",
       "      <td>27.590000</td>\n",
       "      <td>28.750000</td>\n",
       "      <td>27.430000</td>\n",
       "      <td>28.240000</td>\n",
       "      <td>28.182087</td>\n",
       "      <td>81051600</td>\n",
       "      <td>0.0</td>\n",
       "      <td>0.0</td>\n",
       "    </tr>\n",
       "    <tr>\n",
       "      <th>2</th>\n",
       "      <td>2012-12-14</td>\n",
       "      <td>28.180000</td>\n",
       "      <td>28.330000</td>\n",
       "      <td>26.760000</td>\n",
       "      <td>26.809999</td>\n",
       "      <td>26.755020</td>\n",
       "      <td>91631600</td>\n",
       "      <td>0.0</td>\n",
       "      <td>0.0</td>\n",
       "    </tr>\n",
       "    <tr>\n",
       "      <th>3</th>\n",
       "      <td>2012-12-17</td>\n",
       "      <td>26.770000</td>\n",
       "      <td>27.000000</td>\n",
       "      <td>26.320000</td>\n",
       "      <td>26.750000</td>\n",
       "      <td>26.695143</td>\n",
       "      <td>57742500</td>\n",
       "      <td>0.0</td>\n",
       "      <td>0.0</td>\n",
       "    </tr>\n",
       "    <tr>\n",
       "      <th>4</th>\n",
       "      <td>2012-12-18</td>\n",
       "      <td>26.959999</td>\n",
       "      <td>27.910000</td>\n",
       "      <td>26.900000</td>\n",
       "      <td>27.709999</td>\n",
       "      <td>27.653173</td>\n",
       "      <td>60512900</td>\n",
       "      <td>0.0</td>\n",
       "      <td>0.0</td>\n",
       "    </tr>\n",
       "    <tr>\n",
       "      <th>5</th>\n",
       "      <td>2012-12-19</td>\n",
       "      <td>27.830000</td>\n",
       "      <td>28.219999</td>\n",
       "      <td>26.950001</td>\n",
       "      <td>27.410000</td>\n",
       "      <td>27.353790</td>\n",
       "      <td>61390300</td>\n",
       "      <td>0.0</td>\n",
       "      <td>0.0</td>\n",
       "    </tr>\n",
       "    <tr>\n",
       "      <th>6</th>\n",
       "      <td>2012-12-20</td>\n",
       "      <td>27.490000</td>\n",
       "      <td>27.600000</td>\n",
       "      <td>27.129999</td>\n",
       "      <td>27.360001</td>\n",
       "      <td>27.303892</td>\n",
       "      <td>35574800</td>\n",
       "      <td>0.0</td>\n",
       "      <td>0.0</td>\n",
       "    </tr>\n",
       "    <tr>\n",
       "      <th>7</th>\n",
       "      <td>2012-12-21</td>\n",
       "      <td>26.660000</td>\n",
       "      <td>27.010000</td>\n",
       "      <td>26.120001</td>\n",
       "      <td>26.260000</td>\n",
       "      <td>26.206148</td>\n",
       "      <td>54555200</td>\n",
       "      <td>0.0</td>\n",
       "      <td>0.0</td>\n",
       "    </tr>\n",
       "    <tr>\n",
       "      <th>8</th>\n",
       "      <td>2012-12-24</td>\n",
       "      <td>26.500000</td>\n",
       "      <td>26.959999</td>\n",
       "      <td>26.200001</td>\n",
       "      <td>26.930000</td>\n",
       "      <td>26.874775</td>\n",
       "      <td>28230100</td>\n",
       "      <td>0.0</td>\n",
       "      <td>0.0</td>\n",
       "    </tr>\n",
       "    <tr>\n",
       "      <th>9</th>\n",
       "      <td>2012-12-26</td>\n",
       "      <td>27.030001</td>\n",
       "      <td>27.180000</td>\n",
       "      <td>26.379999</td>\n",
       "      <td>26.510000</td>\n",
       "      <td>26.455635</td>\n",
       "      <td>33175400</td>\n",
       "      <td>0.0</td>\n",
       "      <td>0.0</td>\n",
       "    </tr>\n",
       "  </tbody>\n",
       "</table>\n",
       "</div>"
      ],
      "text/plain": [
       "         Date       Open       High        Low      Close  Adj Close  \\\n",
       "0  2012-12-12  28.000000  28.139999  27.370001  27.580000  27.523441   \n",
       "1  2012-12-13  27.590000  28.750000  27.430000  28.240000  28.182087   \n",
       "2  2012-12-14  28.180000  28.330000  26.760000  26.809999  26.755020   \n",
       "3  2012-12-17  26.770000  27.000000  26.320000  26.750000  26.695143   \n",
       "4  2012-12-18  26.959999  27.910000  26.900000  27.709999  27.653173   \n",
       "5  2012-12-19  27.830000  28.219999  26.950001  27.410000  27.353790   \n",
       "6  2012-12-20  27.490000  27.600000  27.129999  27.360001  27.303892   \n",
       "7  2012-12-21  26.660000  27.010000  26.120001  26.260000  26.206148   \n",
       "8  2012-12-24  26.500000  26.959999  26.200001  26.930000  26.874775   \n",
       "9  2012-12-26  27.030001  27.180000  26.379999  26.510000  26.455635   \n",
       "\n",
       "     Volume  Dividends  Stock Splits  \n",
       "0  46704200        0.0           0.0  \n",
       "1  81051600        0.0           0.0  \n",
       "2  91631600        0.0           0.0  \n",
       "3  57742500        0.0           0.0  \n",
       "4  60512900        0.0           0.0  \n",
       "5  61390300        0.0           0.0  \n",
       "6  35574800        0.0           0.0  \n",
       "7  54555200        0.0           0.0  \n",
       "8  28230100        0.0           0.0  \n",
       "9  33175400        0.0           0.0  "
      ]
     },
     "execution_count": 3,
     "metadata": {},
     "output_type": "execute_result"
    }
   ],
   "source": [
    "data.head(10)"
   ]
  },
  {
   "cell_type": "markdown",
   "metadata": {},
   "source": [
    ">>> ##### Ensure your data includes columns like Open, High, Low, Close, and Volume."
   ]
  },
  {
   "cell_type": "code",
   "execution_count": 4,
   "metadata": {},
   "outputs": [
    {
     "name": "stdout",
     "output_type": "stream",
     "text": [
      "All required columns are present.\n"
     ]
    }
   ],
   "source": [
    "from scripts.edaAndQuantitativeAnalysis import validate_columns\n",
    "required_columns = ['Open', 'High', 'Low', 'Close', 'Volume']\n",
    "validate_columns(data, required_columns)  "
   ]
  },
  {
   "cell_type": "code",
   "execution_count": 5,
   "metadata": {},
   "outputs": [
    {
     "name": "stdout",
     "output_type": "stream",
     "text": [
      "<class 'pandas.core.frame.DataFrame'>\n",
      "RangeIndex: 2926 entries, 0 to 2925\n",
      "Data columns (total 9 columns):\n",
      " #   Column        Non-Null Count  Dtype  \n",
      "---  ------        --------------  -----  \n",
      " 0   Date          2926 non-null   object \n",
      " 1   Open          2926 non-null   float64\n",
      " 2   High          2926 non-null   float64\n",
      " 3   Low           2926 non-null   float64\n",
      " 4   Close         2926 non-null   float64\n",
      " 5   Adj Close     2926 non-null   float64\n",
      " 6   Volume        2926 non-null   int64  \n",
      " 7   Dividends     2926 non-null   float64\n",
      " 8   Stock Splits  2926 non-null   float64\n",
      "dtypes: float64(7), int64(1), object(1)\n",
      "memory usage: 205.9+ KB\n"
     ]
    }
   ],
   "source": [
    "data.info()"
   ]
  },
  {
   "cell_type": "markdown",
   "metadata": {},
   "source": [
    ">>> #####  Handle missing values"
   ]
  },
  {
   "cell_type": "code",
   "execution_count": 6,
   "metadata": {},
   "outputs": [
    {
     "data": {
      "text/html": [
       "<div>\n",
       "<style scoped>\n",
       "    .dataframe tbody tr th:only-of-type {\n",
       "        vertical-align: middle;\n",
       "    }\n",
       "\n",
       "    .dataframe tbody tr th {\n",
       "        vertical-align: top;\n",
       "    }\n",
       "\n",
       "    .dataframe thead th {\n",
       "        text-align: right;\n",
       "    }\n",
       "</style>\n",
       "<table border=\"1\" class=\"dataframe\">\n",
       "  <thead>\n",
       "    <tr style=\"text-align: right;\">\n",
       "      <th></th>\n",
       "      <th>Date</th>\n",
       "      <th>Open</th>\n",
       "      <th>High</th>\n",
       "      <th>Low</th>\n",
       "      <th>Close</th>\n",
       "      <th>Adj Close</th>\n",
       "      <th>Volume</th>\n",
       "      <th>Dividends</th>\n",
       "      <th>Stock Splits</th>\n",
       "    </tr>\n",
       "  </thead>\n",
       "  <tbody>\n",
       "    <tr>\n",
       "      <th>0</th>\n",
       "      <td>2012-12-12</td>\n",
       "      <td>28.000000</td>\n",
       "      <td>28.139999</td>\n",
       "      <td>27.370001</td>\n",
       "      <td>27.580000</td>\n",
       "      <td>27.523441</td>\n",
       "      <td>46704200</td>\n",
       "      <td>0.0</td>\n",
       "      <td>0.0</td>\n",
       "    </tr>\n",
       "    <tr>\n",
       "      <th>1</th>\n",
       "      <td>2012-12-13</td>\n",
       "      <td>27.590000</td>\n",
       "      <td>28.750000</td>\n",
       "      <td>27.430000</td>\n",
       "      <td>28.240000</td>\n",
       "      <td>28.182087</td>\n",
       "      <td>81051600</td>\n",
       "      <td>0.0</td>\n",
       "      <td>0.0</td>\n",
       "    </tr>\n",
       "    <tr>\n",
       "      <th>2</th>\n",
       "      <td>2012-12-14</td>\n",
       "      <td>28.180000</td>\n",
       "      <td>28.330000</td>\n",
       "      <td>26.760000</td>\n",
       "      <td>26.809999</td>\n",
       "      <td>26.755020</td>\n",
       "      <td>91631600</td>\n",
       "      <td>0.0</td>\n",
       "      <td>0.0</td>\n",
       "    </tr>\n",
       "    <tr>\n",
       "      <th>3</th>\n",
       "      <td>2012-12-17</td>\n",
       "      <td>26.770000</td>\n",
       "      <td>27.000000</td>\n",
       "      <td>26.320000</td>\n",
       "      <td>26.750000</td>\n",
       "      <td>26.695143</td>\n",
       "      <td>57742500</td>\n",
       "      <td>0.0</td>\n",
       "      <td>0.0</td>\n",
       "    </tr>\n",
       "    <tr>\n",
       "      <th>4</th>\n",
       "      <td>2012-12-18</td>\n",
       "      <td>26.959999</td>\n",
       "      <td>27.910000</td>\n",
       "      <td>26.900000</td>\n",
       "      <td>27.709999</td>\n",
       "      <td>27.653173</td>\n",
       "      <td>60512900</td>\n",
       "      <td>0.0</td>\n",
       "      <td>0.0</td>\n",
       "    </tr>\n",
       "    <tr>\n",
       "      <th>...</th>\n",
       "      <td>...</td>\n",
       "      <td>...</td>\n",
       "      <td>...</td>\n",
       "      <td>...</td>\n",
       "      <td>...</td>\n",
       "      <td>...</td>\n",
       "      <td>...</td>\n",
       "      <td>...</td>\n",
       "      <td>...</td>\n",
       "    </tr>\n",
       "    <tr>\n",
       "      <th>2921</th>\n",
       "      <td>2024-07-24</td>\n",
       "      <td>472.309998</td>\n",
       "      <td>476.299988</td>\n",
       "      <td>460.579987</td>\n",
       "      <td>461.269989</td>\n",
       "      <td>461.269989</td>\n",
       "      <td>17649700</td>\n",
       "      <td>0.0</td>\n",
       "      <td>0.0</td>\n",
       "    </tr>\n",
       "    <tr>\n",
       "      <th>2922</th>\n",
       "      <td>2024-07-25</td>\n",
       "      <td>463.260010</td>\n",
       "      <td>463.549988</td>\n",
       "      <td>442.649994</td>\n",
       "      <td>453.410004</td>\n",
       "      <td>453.410004</td>\n",
       "      <td>18240500</td>\n",
       "      <td>0.0</td>\n",
       "      <td>0.0</td>\n",
       "    </tr>\n",
       "    <tr>\n",
       "      <th>2923</th>\n",
       "      <td>2024-07-26</td>\n",
       "      <td>464.200012</td>\n",
       "      <td>469.769989</td>\n",
       "      <td>459.420013</td>\n",
       "      <td>465.700012</td>\n",
       "      <td>465.700012</td>\n",
       "      <td>14222400</td>\n",
       "      <td>0.0</td>\n",
       "      <td>0.0</td>\n",
       "    </tr>\n",
       "    <tr>\n",
       "      <th>2924</th>\n",
       "      <td>2024-07-29</td>\n",
       "      <td>469.880005</td>\n",
       "      <td>473.959991</td>\n",
       "      <td>465.019989</td>\n",
       "      <td>465.709991</td>\n",
       "      <td>465.709991</td>\n",
       "      <td>11339600</td>\n",
       "      <td>0.0</td>\n",
       "      <td>0.0</td>\n",
       "    </tr>\n",
       "    <tr>\n",
       "      <th>2925</th>\n",
       "      <td>2024-07-30</td>\n",
       "      <td>467.000000</td>\n",
       "      <td>472.730011</td>\n",
       "      <td>456.700012</td>\n",
       "      <td>463.190002</td>\n",
       "      <td>463.190002</td>\n",
       "      <td>11390400</td>\n",
       "      <td>0.0</td>\n",
       "      <td>0.0</td>\n",
       "    </tr>\n",
       "  </tbody>\n",
       "</table>\n",
       "<p>2926 rows × 9 columns</p>\n",
       "</div>"
      ],
      "text/plain": [
       "            Date        Open        High         Low       Close   Adj Close  \\\n",
       "0     2012-12-12   28.000000   28.139999   27.370001   27.580000   27.523441   \n",
       "1     2012-12-13   27.590000   28.750000   27.430000   28.240000   28.182087   \n",
       "2     2012-12-14   28.180000   28.330000   26.760000   26.809999   26.755020   \n",
       "3     2012-12-17   26.770000   27.000000   26.320000   26.750000   26.695143   \n",
       "4     2012-12-18   26.959999   27.910000   26.900000   27.709999   27.653173   \n",
       "...          ...         ...         ...         ...         ...         ...   \n",
       "2921  2024-07-24  472.309998  476.299988  460.579987  461.269989  461.269989   \n",
       "2922  2024-07-25  463.260010  463.549988  442.649994  453.410004  453.410004   \n",
       "2923  2024-07-26  464.200012  469.769989  459.420013  465.700012  465.700012   \n",
       "2924  2024-07-29  469.880005  473.959991  465.019989  465.709991  465.709991   \n",
       "2925  2024-07-30  467.000000  472.730011  456.700012  463.190002  463.190002   \n",
       "\n",
       "        Volume  Dividends  Stock Splits  \n",
       "0     46704200        0.0           0.0  \n",
       "1     81051600        0.0           0.0  \n",
       "2     91631600        0.0           0.0  \n",
       "3     57742500        0.0           0.0  \n",
       "4     60512900        0.0           0.0  \n",
       "...        ...        ...           ...  \n",
       "2921  17649700        0.0           0.0  \n",
       "2922  18240500        0.0           0.0  \n",
       "2923  14222400        0.0           0.0  \n",
       "2924  11339600        0.0           0.0  \n",
       "2925  11390400        0.0           0.0  \n",
       "\n",
       "[2926 rows x 9 columns]"
      ]
     },
     "execution_count": 6,
     "metadata": {},
     "output_type": "execute_result"
    }
   ],
   "source": [
    "from scripts.edaAndQuantitativeAnalysis import handle_missing_values\n",
    "\n",
    "handle_missing_values(data)"
   ]
  },
  {
   "cell_type": "markdown",
   "metadata": {},
   "source": [
    ">>> ##### Analyze statistics"
   ]
  },
  {
   "cell_type": "code",
   "execution_count": 7,
   "metadata": {},
   "outputs": [
    {
     "name": "stdout",
     "output_type": "stream",
     "text": [
      "              Open         High          Low    Adj Close        Close  \\\n",
      "count  2926.000000  2926.000000  2926.000000  2926.000000  2926.000000   \n",
      "mean    179.557215   181.875331   177.317761   179.305921   179.649453   \n",
      "std     108.864895   110.256219   107.511134   108.755055   108.906971   \n",
      "min      22.990000    23.090000    22.670000    22.853037    22.900000   \n",
      "25%      97.767502    98.772499    95.889997    97.182795    97.382498   \n",
      "50%     166.870003   168.850006   164.210007   166.512825   166.855003   \n",
      "75%     231.450005   234.934998   228.687504   231.948360   232.424999   \n",
      "max     542.349976   542.809998   528.359985   539.909973   539.909973   \n",
      "\n",
      "             Volume  \n",
      "count  2.926000e+03  \n",
      "mean   2.872083e+07  \n",
      "std    2.269811e+07  \n",
      "min    5.467500e+06  \n",
      "25%    1.571308e+07  \n",
      "50%    2.176100e+07  \n",
      "75%    3.294468e+07  \n",
      "max    3.654579e+08  \n"
     ]
    }
   ],
   "source": [
    "from scripts.edaAndQuantitativeAnalysis import analyze_statistics\n",
    "  \n",
    "analyze_statistics(data, ['Open', 'High', 'Low', 'Adj Close', 'Close', 'Volume'])"
   ]
  },
  {
   "cell_type": "markdown",
   "metadata": {},
   "source": [
    ">>> ##### visualize distribution "
   ]
  },
  {
   "cell_type": "code",
   "execution_count": 8,
   "metadata": {},
   "outputs": [
    {
     "data": {
      "image/png": "[encoded data removed]",
      "text/plain": [
       "<Figure size 1000x600 with 1 Axes>"
      ]
     },
     "metadata": {},
     "output_type": "display_data"
    },
    {
     "data": {
      "image/png": "[encoded data removed]",
      "text/plain": [
       "<Figure size 1000x600 with 1 Axes>"
      ]
     },
     "metadata": {},
     "output_type": "display_data"
    }
   ],
   "source": [
    "from scripts.edaAndQuantitativeAnalysis import plot_distributions\n",
    "plot_distributions(data, 'Close', title=\"Distribution of Close Prices\")\n",
    "plot_distributions(data, 'Volume', title=\"Distribution of Volume\")"
   ]
  },
  {
   "cell_type": "markdown",
   "metadata": {},
   "source": [
    ">>> ##### Analyze correlation"
   ]
  },
  {
   "cell_type": "code",
   "execution_count": 9,
   "metadata": {},
   "outputs": [
    {
     "name": "stdout",
     "output_type": "stream",
     "text": [
      "\n",
      "Correlation Matrix:\n",
      "               Open      High       Low  Adj Close     Close    Volume\n",
      "Open       1.000000  0.999774  0.999747   0.999492  0.999491 -0.391211\n",
      "High       0.999774  1.000000  0.999713   0.999768  0.999768 -0.387068\n",
      "Low        0.999747  0.999713  1.000000   0.999778  0.999779 -0.395943\n",
      "Adj Close  0.999492  0.999768  0.999778   1.000000  0.999999 -0.391539\n",
      "Close      0.999491  0.999768  0.999779   0.999999  1.000000 -0.391652\n",
      "Volume    -0.391211 -0.387068 -0.395943  -0.391539 -0.391652  1.000000\n"
     ]
    },
    {
     "data": {
      "image/png": "[encoded data removed]",
      "text/plain": [
       "<Figure size 640x480 with 2 Axes>"
      ]
     },
     "metadata": {},
     "output_type": "display_data"
    }
   ],
   "source": [
    "from scripts.edaAndQuantitativeAnalysis import analyze_correlations\n",
    "analyze_correlations(data, ['Open', 'High', 'Low', 'Adj Close', 'Close', 'Volume'])"
   ]
  },
  {
   "cell_type": "markdown",
   "metadata": {},
   "source": [
    ">>> ##### study volatility"
   ]
  },
  {
   "cell_type": "code",
   "execution_count": null,
   "metadata": {},
   "outputs": [],
   "source": [
    "from scripts.edaAndQuantitativeAnalysis import plot_volatility\n",
    "plot_volatility(data, 'Close', 'Date')"
   ]
  }
 ],
 "metadata": {
  "kernelspec": {
   "display_name": ".venv",
   "language": "python",
   "name": "python3"
  },
  "language_info": {
   "codemirror_mode": {
    "name": "ipython",
    "version": 3
   },
   "file_extension": ".py",
   "mimetype": "text/x-python",
   "name": "python",
   "nbconvert_exporter": "python",
   "pygments_lexer": "ipython3",
   "version": "3.10.12"
  }
 },
 "nbformat": 4,
 "nbformat_minor": 2
}
